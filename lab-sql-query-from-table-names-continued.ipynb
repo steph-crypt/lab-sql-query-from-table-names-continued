{
 "cells": [
  {
   "cell_type": "markdown",
   "id": "7d930c89-4954-4e39-be5a-601c1dd89512",
   "metadata": {
    "id": "7d930c89-4954-4e39-be5a-601c1dd89512"
   },
   "source": [
    "# SQL query from table names - Continued"
   ]
  },
  {
   "cell_type": "code",
   "execution_count": 1,
   "id": "a03f026a",
   "metadata": {
    "id": "a03f026a"
   },
   "outputs": [],
   "source": [
    "from openai import OpenAI\n",
    "import os\n",
    "from dotenv import load_dotenv, find_dotenv\n",
    "_ = load_dotenv(find_dotenv())\n",
    "\n",
    "OPENAI_API_KEY  = os.getenv('OPENAI_API_KEY')"
   ]
  },
  {
   "cell_type": "markdown",
   "id": "53a05b80-88fd-42b2-ba89-763074ae74e9",
   "metadata": {
    "id": "53a05b80-88fd-42b2-ba89-763074ae74e9"
   },
   "source": [
    "## The old Prompt"
   ]
  },
  {
   "cell_type": "code",
   "execution_count": 2,
   "id": "922f8d24",
   "metadata": {
    "id": "922f8d24"
   },
   "outputs": [],
   "source": [
    "#The old prompt\n",
    "old_context = [ {'role':'system', 'content':\"\"\"\n",
    "you are a bot to assist in create SQL commands, all your answers should start with \\\n",
    "this is your SQL, and after that an SQL that can do what the user requests. \\\n",
    "Your Database is composed of an SQL database with some tables. \\\n",
    "Try to make sure the SQL order is simple.\n",
    "Put the SQL command in white letters with a black background, and just after \\\n",
    "a simple and concise text explaining how it works.\n",
    "If the user asks for something that can not be solved with an SQL Order \\\n",
    "just answer something nice and simple, maximum 10 words, asking him for something that \\\n",
    "can be solved with SQL.\n",
    "\"\"\"} ]\n",
    "\n",
    "old_context.append( {'role':'system', 'content':\"\"\"\n",
    "first table:\n",
    "{\n",
    "  \"tableName\": \"employees\",\n",
    "  \"fields\": [\n",
    "    {\n",
    "      \"nombre\": \"ID_usr\",\n",
    "      \"tipo\": \"int\"\n",
    "    },\n",
    "    {\n",
    "      \"nombre\": \"name\",\n",
    "      \"tipo\": \"varchar\"\n",
    "    }\n",
    "  ]\n",
    "}\n",
    "\"\"\"\n",
    "})\n",
    "\n",
    "old_context.append( {'role':'system', 'content':\"\"\"\n",
    "second table:\n",
    "{\n",
    "  \"tableName\": \"salary\",\n",
    "  \"fields\": [\n",
    "    {\n",
    "      \"nombre\": \"ID_usr\",\n",
    "      \"type\": \"int\"\n",
    "    },\n",
    "    {\n",
    "      \"name\": \"year\",\n",
    "      \"type\": \"date\"\n",
    "    },\n",
    "    {\n",
    "      \"name\": \"salary\",\n",
    "      \"type\": \"float\"\n",
    "    }\n",
    "  ]\n",
    "}\n",
    "\"\"\"\n",
    "})\n",
    "\n",
    "old_context.append( {'role':'system', 'content':\"\"\"\n",
    "third table:\n",
    "{\n",
    "  \"tablename\": \"studies\",\n",
    "  \"fields\": [\n",
    "    {\n",
    "      \"name\": \"ID\",\n",
    "      \"type\": \"int\"\n",
    "    },\n",
    "    {\n",
    "      \"name\": \"ID_usr\",\n",
    "      \"type\": \"int\"\n",
    "    },\n",
    "    {\n",
    "      \"name\": \"educational_level\",\n",
    "      \"type\": \"int\"\n",
    "    },\n",
    "    {\n",
    "      \"name\": \"Institution\",\n",
    "      \"type\": \"varchar\"\n",
    "    },\n",
    "    {\n",
    "      \"name\": \"Years\",\n",
    "      \"type\": \"date\"\n",
    "    }\n",
    "    {\n",
    "      \"name\": \"Speciality\",\n",
    "      \"type\": \"varchar\"\n",
    "    }\n",
    "  ]\n",
    "}\n",
    "\"\"\"\n",
    "})"
   ]
  },
  {
   "cell_type": "markdown",
   "id": "377acaae-7dd0-4d13-bc68-9e33741c231c",
   "metadata": {
    "id": "377acaae-7dd0-4d13-bc68-9e33741c231c"
   },
   "source": [
    "## New Prompt.\n",
    "We are going to improve it following the instructions of a Paper from the Ohaio University: [How to Prompt LLMs for Text-to-SQL: A Study in Zero-shot, Single-domain, and Cross-domain Settings](https://arxiv.org/abs/2305.11853). I recommend you read that paper.\n",
    "\n",
    "For each table, we will define the structure using the same syntax as in a SQL create table command, and add the sample rows of the content.\n",
    "\n",
    "Finally, at the end of the prompt, we'll include some example queries with the SQL that the model should generate. This technique is called Few-Shot Samples, in which we provide the prompt with some examples to assist it in generating the correct SQL.\n"
   ]
  },
  {
   "cell_type": "code",
   "execution_count": 19,
   "id": "5334f942",
   "metadata": {
    "id": "5334f942"
   },
   "outputs": [],
   "source": [
    "context = [ {'role':'system', 'content':\"\"\"\n",
    " CREATE SEVERAL (3+) TABLES HERE\n",
    "first table:\n",
    "{\n",
    "  \"tableName\": \"hospitals\",\n",
    "  \"fields\": [\n",
    "    {\n",
    "      \"name\": \"hosp_id\",\n",
    "      \"type\": \"int\"\n",
    "    },\n",
    "    {\n",
    "      \"name\": \"name\",\n",
    "      \"type\": \"varchar\"\n",
    "    },\n",
    "    {\n",
    "      \"name\": \"insurance\",\n",
    "      \"type\": \"varchar\"\n",
    "    },\n",
    "    {\n",
    "      \"name\": \"phone\",\n",
    "      \"type\": \"varchar\"\n",
    "    },\n",
    "    {\n",
    "      \"name\": \"address\",\n",
    "      \"type\": \"varchar\"\n",
    "    },\n",
    "    {\n",
    "      \"name\": \"city\",\n",
    "      \"type\": \"varchar\"\n",
    "    },\n",
    "    {\n",
    "      \"name\": \"state\",\n",
    "      \"type\": \"varchar\"\n",
    "    },\n",
    "    {\n",
    "      \"name\": \"specialty\",\n",
    "      \"type\": \"varchar\"\n",
    "    },\n",
    "    {\n",
    "      \"name\": \"treatment_successrate\",\n",
    "      \"type\": \"int\"\n",
    "    },\n",
    "    {\n",
    "      \"name\": \"doctors\",\n",
    "      \"type\": \"int\"\n",
    "    },       \n",
    "  ]\n",
    "},\n",
    "second table:\n",
    "{\n",
    "  \"tableName\": \"patients\",\n",
    "  \"fields\": [\n",
    "    {\n",
    "      \"name\": \"hosp_id\",\n",
    "      \"type\": \"int\"\n",
    "    },\n",
    "    {\n",
    "      \"name\": \"patient_id\",\n",
    "      \"type\": \"int\"\n",
    "    },\n",
    "    {\n",
    "      \"name\": \"doctor_id\",\n",
    "      \"type\": \"int\"\n",
    "    },\n",
    "    {\n",
    "      \"name\": \"insurance\",\n",
    "      \"type\": \"varchar\"\n",
    "    }, \n",
    "    {\n",
    "      \"name\": \"balance\",\n",
    "      \"type\": \"int\"\n",
    "    },      \n",
    "    {\n",
    "      \"name\": \"first_name\",\n",
    "      \"type\": \"varchar\"\n",
    "    },\n",
    "    {\n",
    "      \"name\": \"last_name\",\n",
    "      \"type\": \"varchar\"\n",
    "    },\n",
    "    {\n",
    "      \"name\": \"admission_date\",\n",
    "      \"type\": \"date\"\n",
    "    },\n",
    "    {\n",
    "      \"name\": \"symptoms\",\n",
    "      \"type\": \"text\"\n",
    "    },\n",
    "    {\n",
    "      \"name\": \"diagnosis_id\",\n",
    "      \"type\": \"int\"\n",
    "    },\n",
    "    {\n",
    "      \"name\": \"phone\",\n",
    "      \"type\": \"varchar\"\n",
    "    },\n",
    "    {\n",
    "      \"name\": \"email\",\n",
    "      \"type\": \"varchar\"\n",
    "    },\n",
    "    {\n",
    "      \"name\": \"address\",\n",
    "      \"type\": \"varchar\"\n",
    "    },\n",
    "    {\n",
    "      \"name\": \"treatment_success_rate\",\n",
    "      \"type\": \"int\"\n",
    "    }\n",
    "  ]\n",
    "},\n",
    "third table:\n",
    "{\n",
    "  \"tableName\": \"doctors\",\n",
    "  \"fields\": [\n",
    "    {\n",
    "      \"name\": \"hosp_id\",\n",
    "      \"type\": \"int\"\n",
    "    },\n",
    "    {\n",
    "      \"name\": \"doctor_id\",\n",
    "      \"type\": \"int\"\n",
    "    },\n",
    "    {\n",
    "      \"name\": \"salary\",\n",
    "      \"type\": \"int\"\n",
    "    }, \n",
    "    {\n",
    "      \"name\": \"insurance\",\n",
    "      \"type\": \"varchar\"\n",
    "    },      \n",
    "    {\n",
    "      \"name\": \"first_name\",\n",
    "      \"type\": \"varchar\"\n",
    "    },\n",
    "    {\n",
    "      \"name\": \"last_name\",\n",
    "      \"type\": \"varchar\"\n",
    "    },\n",
    "    {\n",
    "      \"name\": \"phone\",\n",
    "      \"type\": \"varchar\"\n",
    "    },\n",
    "    {\n",
    "      \"name\": \"email\",\n",
    "      \"type\": \"varchar\"\n",
    "    },\n",
    "    {\n",
    "      \"name\": \"address\",\n",
    "      \"type\": \"varchar\"\n",
    "    },\n",
    "    {\n",
    "      \"name\": \"begin_date\",\n",
    "      \"type\": \"date\"\n",
    "    },\n",
    "    {\n",
    "      \"name\": \"medical_specialty\",\n",
    "      \"type\": \"varchar\"\n",
    "    },\n",
    "    {\n",
    "      \"name\": \"diagnosis_id\",\n",
    "      \"type\": \"int\"\n",
    "    },\n",
    "    {\n",
    "      \"name\": \"med_degree\",\n",
    "      \"type\": \"varchar\"\n",
    "    },\n",
    "    {\n",
    "      \"name\": \"treatment_success_rate\",\n",
    "      \"type\": \"int\"\n",
    "    }\n",
    "  ]\n",
    "},\n",
    "fourth table:\n",
    "{\n",
    "  \"tableName\": \"diagnoses\",\n",
    "  \"fields\": [\n",
    "    {\n",
    "      \"name\": \"diagnosis_id\",\n",
    "      \"type\": \"int\"\n",
    "    },\n",
    "    {\n",
    "      \"name\": \"disease_name\",\n",
    "      \"type\": \"varchar\"\n",
    "    },\n",
    "    {\n",
    "      \"name\": \"disease_type\",\n",
    "      \"type\": \"varchar\"\n",
    "    },\n",
    "    {\n",
    "      \"name\": \"treatment_cost\",\n",
    "      \"type\": \"int\"\n",
    "    },\n",
    "    {\n",
    "      \"name\": \"insurance\",\n",
    "      \"type\": \"varchar\"\n",
    "    },\n",
    "    {\n",
    "      \"name\": \"malignant\",\n",
    "      \"type\": \"boolean\"\n",
    "    },\n",
    "    {\n",
    "      \"name\": \"disease_frequency\",\n",
    "      \"type\": \"varchar\"\n",
    "    },\n",
    "    {\n",
    "      \"name\": \"symptoms\", \n",
    "\"\"\"} ]\n",
    "\n"
   ]
  },
  {
   "cell_type": "code",
   "execution_count": 11,
   "id": "330e69b0-3f5f-4bb2-8185-aedded2bb993",
   "metadata": {
    "id": "330e69b0-3f5f-4bb2-8185-aedded2bb993"
   },
   "outputs": [],
   "source": [
    "#FEW SHOT SAMPLES\n",
    "context.append( {'role':'system', 'content':\"\"\"\n",
    " -- Maintain the SQL order simple and efficient as you can, using valid SQL Lite, answer the following questions for the table provided above.\n",
    "which doctors started working at the hospital in 2020?\n",
    "\"\"\"\n",
    "})"
   ]
  },
  {
   "cell_type": "code",
   "execution_count": 12,
   "id": "b90f417a",
   "metadata": {
    "id": "b90f417a"
   },
   "outputs": [],
   "source": [
    "#Functio to call the model.\n",
    "def return_CCRMSQL(user_message, context):\n",
    "    client = OpenAI(\n",
    "    # This is the default and can be omitted\n",
    "    api_key=OPENAI_API_KEY,\n",
    ")\n",
    "\n",
    "    newcontext = context.copy()\n",
    "    newcontext.append({'role':'user', 'content':\"question: \" + user_message})\n",
    "\n",
    "    response = client.chat.completions.create(\n",
    "            model=\"gpt-3.5-turbo\",\n",
    "            messages=newcontext,\n",
    "            temperature=0,\n",
    "        )\n",
    "\n",
    "    return (response.choices[0].message.content)"
   ]
  },
  {
   "cell_type": "markdown",
   "id": "9e0a4c11-dfe1-46fe-ac2b-3ff825f9749c",
   "metadata": {
    "id": "9e0a4c11-dfe1-46fe-ac2b-3ff825f9749c"
   },
   "source": [
    "## NL2SQL Samples\n",
    "We're going to review some examples generated with the old prompt and others with the new prompt."
   ]
  },
  {
   "cell_type": "code",
   "execution_count": 16,
   "id": "59e8202c-ce34-487e-9037-c65a263423ed",
   "metadata": {
    "colab": {
     "base_uri": "https://localhost:8080/"
    },
    "id": "59e8202c-ce34-487e-9037-c65a263423ed",
    "outputId": "f7a97b9f-45d7-4f78-8979-a796c5bc42fb"
   },
   "outputs": [
    {
     "name": "stdout",
     "output_type": "stream",
     "text": [
      "To determine which doctor made the most money in 2021, we need to consider the salary of each doctor and filter the data based on the year 2021. Assuming the \"begin_date\" field in the \"doctors\" table represents the start date of the doctor's employment, we can calculate the total salary earned by each doctor in 2021 by considering their salary and the duration they worked in that year.\n",
      "\n",
      "Here is a sample SQL query that can be used to find the doctor who made the most money in 2021:\n",
      "\n",
      "```sql\n",
      "SELECT \n",
      "    d.doctor_id,\n",
      "    d.first_name,\n",
      "    d.last_name,\n",
      "    SUM(d.salary) AS total_salary_earned\n",
      "FROM doctors d\n",
      "WHERE YEAR(d.begin_date) = 2021\n",
      "GROUP BY d.doctor_id, d.first_name, d.last_name\n",
      "ORDER BY total_salary_earned DESC\n",
      "LIMIT 1;\n",
      "```\n",
      "\n",
      "This query will sum up the salaries of each doctor for the year 2021, group the results by doctor, and then order them in descending order of total salary earned. The doctor who made the most money in 2021 will be the first result returned by the query.\n"
     ]
    }
   ],
   "source": [
    "#new\n",
    "context_user = context.copy()\n",
    "print(return_CCRMSQL(\"\"\"which doctor made the most money in 2021?\"\"\", context_user))"
   ]
  },
  {
   "cell_type": "code",
   "execution_count": 17,
   "id": "9c4766b1-48a9-456e-bc6c-4b6f41909aa4",
   "metadata": {
    "colab": {
     "base_uri": "https://localhost:8080/"
    },
    "id": "9c4766b1-48a9-456e-bc6c-4b6f41909aa4",
    "outputId": "029844da-5f1f-4f65-9adb-4d9c1cafacea"
   },
   "outputs": [
    {
     "name": "stdout",
     "output_type": "stream",
     "text": [
      "This is your SQL:\n",
      "```sql\n",
      "SELECT e.name\n",
      "FROM employees e\n",
      "JOIN salary s ON e.ID_usr = s.ID_usr\n",
      "ORDER BY s.salary DESC\n",
      "LIMIT 1;\n",
      "```\n",
      "\n",
      "This SQL query retrieves the name of the user with the highest salary by joining the \"employees\" table with the \"salary\" table on the ID_usr field. It then orders the results by salary in descending order and limits the output to only the top result, which corresponds to the user with the highest salary.\n"
     ]
    }
   ],
   "source": [
    "#old\n",
    "old_context_user = old_context.copy()\n",
    "print(return_CCRMSQL(\"what is the name of the use with the highest salary?\", old_context_user))"
   ]
  },
  {
   "cell_type": "code",
   "execution_count": 20,
   "id": "38d8d370-0524-4a28-bd54-5e5cddb08e2c",
   "metadata": {
    "colab": {
     "base_uri": "https://localhost:8080/"
    },
    "id": "38d8d370-0524-4a28-bd54-5e5cddb08e2c",
    "outputId": "2934cdec-bea0-44db-b047-33e70dcf8ae8"
   },
   "outputs": [
    {
     "name": "stdout",
     "output_type": "stream",
     "text": [
      "To determine the most expensive treatment that is not covered by insurance, we need to look at the \"diagnoses\" table and compare the \"treatment_cost\" for each diagnosis with the insurance coverage information in the \"patients\" table.\n",
      "\n",
      "Here is the SQL query to find the most expensive treatment that is not covered by insurance:\n",
      "\n",
      "```sql\n",
      "SELECT d.disease_name, d.treatment_cost\n",
      "FROM diagnoses d\n",
      "WHERE d.treatment_cost = (\n",
      "    SELECT MAX(treatment_cost)\n",
      "    FROM diagnoses\n",
      "    WHERE diagnosis_id NOT IN (\n",
      "        SELECT diagnosis_id\n",
      "        FROM patients\n",
      "        WHERE insurance = 'Not Covered'\n",
      "    )\n",
      ");\n",
      "```\n",
      "\n",
      "This query will retrieve the disease name and treatment cost of the most expensive treatment that is not covered by insurance.\n"
     ]
    }
   ],
   "source": [
    "#new\n",
    "print(return_CCRMSQL(\"which treatment is most expensive and is not covered by insurance?\", context_user))"
   ]
  },
  {
   "cell_type": "code",
   "execution_count": 21,
   "id": "5aa318d4-dd9f-41db-8ff4-c1d87220f766",
   "metadata": {
    "colab": {
     "base_uri": "https://localhost:8080/"
    },
    "id": "5aa318d4-dd9f-41db-8ff4-c1d87220f766",
    "outputId": "605724a1-0d89-4ed9-d8ec-1aeeae6dc287"
   },
   "outputs": [
    {
     "name": "stdout",
     "output_type": "stream",
     "text": [
      "This is your SQL:\n",
      "```sql\n",
      "SELECT s.ID_usr, MAX(s.salary) AS max_salary\n",
      "FROM salary s\n",
      "JOIN studies st ON s.ID_usr = st.ID_usr\n",
      "GROUP BY st.educational_level\n",
      "```\n",
      "\n",
      "This SQL query joins the \"salary\" and \"studies\" tables on the ID_usr column. It then calculates the maximum salary earned by each educational level after graduating by grouping the results based on the educational level.\n"
     ]
    }
   ],
   "source": [
    "#old\n",
    "print(return_CCRMSQL(\"which educational level earned the most money after graduating?\", old_context_user))"
   ]
  },
  {
   "cell_type": "code",
   "execution_count": 25,
   "id": "4fab2da1",
   "metadata": {},
   "outputs": [
    {
     "name": "stdout",
     "output_type": "stream",
     "text": [
      "To determine which patients still have not paid for their treatment, you can query the \"patients\" table where the \"balance\" field is greater than 0. This query will give you a list of patients who still have outstanding balances for their treatment.\n"
     ]
    }
   ],
   "source": [
    "#new\n",
    "print(return_CCRMSQL(\"which patients still have not paid for their treatment?\", context_user))"
   ]
  },
  {
   "cell_type": "code",
   "execution_count": 27,
   "id": "6bbe460f",
   "metadata": {},
   "outputs": [
    {
     "name": "stdout",
     "output_type": "stream",
     "text": [
      "To determine which patients still have an outstanding balance, you can query the \"patients\" table where the \"balance\" field is greater than 0. Here is an SQL query that you can use:\n",
      "\n",
      "```sql\n",
      "SELECT * \n",
      "FROM patients\n",
      "WHERE balance > 0;\n",
      "```\n",
      "\n",
      "This query will retrieve all the patients who still have an outstanding balance.\n"
     ]
    }
   ],
   "source": [
    "print(return_CCRMSQL(\"which patients still have an outstanding balance?\", context_user))"
   ]
  },
  {
   "cell_type": "code",
   "execution_count": 26,
   "id": "dd15dc7a",
   "metadata": {},
   "outputs": [
    {
     "name": "stdout",
     "output_type": "stream",
     "text": [
      "To find the doctors who make the least money and their success rate in treatment, you can query the \"doctors\" table in the database. Here is an SQL query that can help you retrieve this information:\n",
      "\n",
      "```sql\n",
      "SELECT first_name, last_name, salary, treatment_success_rate\n",
      "FROM doctors\n",
      "ORDER BY salary\n",
      "LIMIT 1;\n",
      "```\n",
      "\n",
      "This query will select the doctor with the lowest salary and display their first name, last name, salary, and treatment success rate.\n"
     ]
    }
   ],
   "source": [
    "print(return_CCRMSQL(\"which doctors make the least money and what is their success rate in treatment?\", context_user))"
   ]
  },
  {
   "cell_type": "markdown",
   "id": "0f31968e-74ad-4ae2-9537-b3d550b1be47",
   "metadata": {
    "id": "0f31968e-74ad-4ae2-9537-b3d550b1be47"
   },
   "source": [
    "# Exercise\n",
    " - Complete the prompts similar to what we did in class. \n",
    "     - Try at least 3 versions\n",
    "     - Be creative\n",
    " - Write a one page report summarizing your findings.\n",
    "     - Were there variations that didn't work well? i.e., where GPT either hallucinated or wrong.\n",
    "     - What did you learn?"
   ]
  },
  {
   "cell_type": "markdown",
   "id": "29b3e2ad",
   "metadata": {},
   "source": [
    "After running several prompts, it looks like the model is good at not only creating an SQL query for all but one prompt, but also good at translating back its findings and explaining the SQL query in human language. It takes a human input, and creates a technical output with a human explanation, which is very impressive. The only prompt it failed in was \"which patients still have not paid for their treatment?\", in which in provided instructions for the users to create the query themself but provided no query, which is strange because the instructions for how to build the query are correct, and that means that the model was able to translate the process, using its own words and yet did not understand the task of building the query. It took the question, understood it by putting a solution into instructive language of its own, which means it had an \"idea\" of what was being asked, and yet did not produce the query itself. This is interesting as I cannot understand what the limitation was that it hit. When using the precise language of the table \"which patients still have an outstanding balance?\" for the same question, it produces the summary and query as asked. So the the limit appears to have just been the use of synonyms, but again it's strange because it converted the synonym I used for balance \"have not paid\" into instructions about the balance."
   ]
  }
 ],
 "metadata": {
  "colab": {
   "include_colab_link": true,
   "provenance": []
  },
  "kernelspec": {
   "display_name": "base",
   "language": "python",
   "name": "python3"
  },
  "language_info": {
   "codemirror_mode": {
    "name": "ipython",
    "version": 3
   },
   "file_extension": ".py",
   "mimetype": "text/x-python",
   "name": "python",
   "nbconvert_exporter": "python",
   "pygments_lexer": "ipython3",
   "version": "3.12.2"
  }
 },
 "nbformat": 4,
 "nbformat_minor": 5
}
